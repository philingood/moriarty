{
 "cells": [
  {
   "cell_type": "code",
   "execution_count": 1,
   "metadata": {},
   "outputs": [],
   "source": [
    "import math\n",
    "from icecream import ic\n",
    "\n",
    "\n",
    "def equations(t , y ) :  \n",
    "    \"\"\"Функция, содержащая правые части дифф. уравнений\"\"\"\n",
    "    return [\n",
    "        \n",
    "        ]\n",
    "\n",
    "\n",
    "def rk(func, t0, tf, y0, h) :\n",
    "    count = int( (tf - t0) / h ) + 1\n",
    "    y = [ y0[:] ]\n",
    "    x = t0\n",
    "    for i in range (1 , count ) :\n",
    "        k1 = func(x, y[i - 1])\n",
    "        k2 = func(x + h/2, list(map(lambda arr1, arr2: arr1 + arr2 * h/2, y[i - 1], k1)))\n",
    "        k3 = func(x + h/2, list(map(lambda arr1, arr2: arr1 + arr2 * h/2, y[i - 1], k2)))\n",
    "        k4 = func(x + h  , list(map(lambda arr1, arr2: arr1 + arr2 * h  , y[i - 1], k3)))\n",
    "        \n",
    "        y.append([])\n",
    "        \n",
    "        for j in range ( len ( y0 ) ) :\n",
    "            y[i].append(y[i - 1][j] + h/6 * (k1[j] + 2 * k2[j] + 2 * k3[j] + k4[j]))\n",
    "\n",
    "        x += h\n",
    "    return y"
   ]
  },
  {
   "cell_type": "code",
   "execution_count": null,
   "metadata": {},
   "outputs": [
    {
     "name": "stderr",
     "output_type": "stream",
     "text": [
      "ic| 2666118371.py:1 in <module> at 17:07:22.093\n",
      "ic| l: [0, 0, 0]\n",
      "ic| l: [0.004999791679686959, 0.10536054802945213, 0.09998750234339197]\n",
      "ic| l: [0.019992089353337197, 0.22314364263845965, 0.19980027824237273]\n",
      "ic| l: [0.04493954532954178, 0.35667514735386174, 0.2989921821997826]\n",
      "ic| l: [0.07974589273138522, 0.5108260541264404, 0.39683477618392093]\n",
      "ic| l: [0.1242292261307227, 0.6931481126736125, 0.49235154280802335]\n",
      "ic| l: [0.1781000081292174, 0.9162929178666563, 0.5843789596377397]\n",
      "ic| l: [0.24094662432104696, 1.2039787012997296, 0.67165612248553]\n",
      "ic| l: [0.3122311354618596, 1.6094571435954672, 0.7529375201538153]\n",
      "ic| l: [0.39129695254854, 2.302585909165211, 0.8271160064996047]\n",
      "ic| l: [0.4773885589403407, 5.409112363921029, 0.8933374434985747]\n"
     ]
    }
   ],
   "source": [
    "ic()\n",
    "for l in rk(equations, 0, 1, [0, 0, 0], 0.1):\n",
    "    # print(l)\n",
    "    ic(l)\n",
    "    # ic()"
   ]
  }
 ],
 "metadata": {
  "kernelspec": {
   "display_name": "unienv",
   "language": "python",
   "name": "python3"
  },
  "language_info": {
   "codemirror_mode": {
    "name": "ipython",
    "version": 3
   },
   "file_extension": ".py",
   "mimetype": "text/x-python",
   "name": "python",
   "nbconvert_exporter": "python",
   "pygments_lexer": "ipython3",
   "version": "3.11.0"
  }
 },
 "nbformat": 4,
 "nbformat_minor": 2
}
