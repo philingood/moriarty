{
 "cells": [
  {
   "cell_type": "markdown",
   "metadata": {},
   "source": [
    "# Решение СДУ методом Рунге-Кутта"
   ]
  },
  {
   "cell_type": "markdown",
   "metadata": {},
   "source": [
    "## Теоретическая часть"
   ]
  },
  {
   "cell_type": "markdown",
   "metadata": {},
   "source": [
    "Пусть требуется решить систему дифференциальных уравнений первого порядка:\n",
    "$$\n",
    "\\left\\{\\begin{array}{l}\n",
    "\\frac{d y_1}{d x}=y_2 \\\\\n",
    "\\frac{d y_2}{d x}=e^{-x \\cdot y_1}\n",
    "\\end{array}\\right.\n",
    "$$\n",
    "\n",
    "методом Рунге-Кутта на отрезке $[0,1]$ с шагом $h=0.1$. Начальные условия: $x_0=0 ; y_1(0)=0 ; y_2(0)=0$.\n",
    "<!-- Воспользуемся формулой (5) и запишем выражения для $y_{i, 1}$ и $y_{i, 2}$ :\n",
    "$$\n",
    "\\left\\{\\begin{aligned}\n",
    "y_{i, 1} & =y_{(i-1), 1}+0.1 \\cdot y_{(i-1), 2} \\\\\n",
    "y_{i, 2} & =y_{(i-1), 2}+0.1 \\cdot e^{-x_{i-1} \\cdot y_{(i-1), 1}} \\\\\n",
    "x_i & =x_{i-1}+h\n",
    "\\end{aligned}\\right.\n",
    "$$ -->"
   ]
  },
  {
   "cell_type": "markdown",
   "metadata": {},
   "source": [
    "При использовании метода Рунге-Кутты, расчетные формулы примут следующий вид:\n",
    "$$\n",
    "\\left\\{\\begin{aligned}\n",
    "y_{i, 1} & =y_{(i-1), 1}+h / 6 \\cdot\\left(k_{1,1}+2 \\cdot k_{2,1}+2 \\cdot k_{3,1}+k_{4,1}\\right) \\\\\n",
    "y_{i, 2} & =y_{(i-1), 2}+h / 6 \\cdot\\left(k_{1,2}+2 \\cdot k_{2,2}+2 \\cdot k_{3,2}+k_{4,2}\\right) \\\\\n",
    "x_i & =x_{i-1}+h\n",
    "\\end{aligned}\\right. \\quad \\quad \\quad \\quad \\quad \\quad \\quad  (8)\n",
    "$$\n",
    "\n",
    "где\n",
    "$$\n",
    "\\begin{aligned}\n",
    "& k_{\\mathbf{1}, \\mathbf{1}}=f_{\\mathbf{1}}\\left(x, y_{(i-1), \\mathbf{1}}, y_{(i-1), \\mathbf{2}}\\right) ; \\\\\n",
    "& k_{\\mathbf{1}, \\mathbf{2}}=f_{\\mathbf{2}}\\left(x, y_{(i-1), \\mathbf{1}}, y_{(i-1), 2}\\right) ; \\\\\n",
    "& k_{\\mathbf{2}, \\mathbf{1}}=f_{\\mathbf{1}}\\left(x+\\frac{h}{2}, y_{(i-\\mathbf{1}), \\mathbf{1}}+k_{\\mathbf{1}, \\mathbf{1}} \\cdot \\frac{h}{2}, y_{(i-\\mathbf{1}), \\mathbf{2}}+k_{\\mathbf{1}, \\mathbf{2}} \\cdot \\frac{h}{2}\\right) ; \\\\\n",
    "& k_{\\mathbf{2}, \\mathbf{2}}=f_{\\mathbf{2}}\\left(x+\\frac{h}{2}, y_{(i-1), \\mathbf{1}}+k_{\\mathbf{1}, \\mathbf{1}} \\cdot \\frac{h}{2}, y_{(i-\\mathbf{1}), \\mathbf{2}}+k_{\\mathbf{1}, \\mathbf{2}} \\cdot \\frac{h}{2}\\right) ; \\\\\n",
    "& k_{3,1}=f_1\\left(x+\\frac{h}{2}, y_{(i-1), 1}+k_{2,1} \\cdot \\frac{h}{2}, y_{(i-1), 2}+k_{2,2} \\cdot \\frac{h}{2}\\right) \\text {; } \\\\\n",
    "& k_{3,2}=f_2\\left(x+\\frac{h}{2}, y_{(i-1), 1}+k_{2,1} \\cdot \\frac{h}{2}, y_{(i-1), 2}+k_{2,2} \\cdot \\frac{h}{2}\\right) \\text {; } \\\\\n",
    "& k_{\\mathbf{4}, \\mathbf{1}}=f_{\\mathbf{1}}\\left(x+h, y_{(i-\\mathbf{1}), \\mathbf{1}}+k_{\\mathbf{3}, \\mathbf{1}} \\cdot h, y_{(i-\\mathbf{1}), \\mathbf{2}}+k_{\\mathbf{3}, \\mathbf{2}} \\cdot h\\right) \\text {; } \\\\\n",
    "& k_{\\mathbf{4}, \\mathbf{2}}=f_{\\mathbf{2}}\\left(x+h, y_{(i-1), \\mathbf{1}}+k_{\\mathbf{3}, \\mathbf{1}} \\cdot h, y_{(i-\\mathbf{1}), \\mathbf{2}}+k_{\\mathbf{3}, \\mathbf{2}} \\cdot h\\right) \\text {. } \\\\\n",
    "&\n",
    "\\end{aligned} \\quad \\quad \\quad \\quad \\quad \\quad \\quad  (9)\n",
    "$$\n",
    "\n",
    "где $h$ - шаг интегрирования; $f_1\\left(x_i, y_{(i-1), 1}, y_{(i-1), 2}\\right)$ и $f_2\\left(x_i, y_{(i-1), 1}, y_{(i-1), 2}\\right)$ - правые части дифференциальных уравнений, $k_{1, j}, k_{2, j}, k_{3, j}, k_{4, j}$ - параметры метода Рунге-Кутты для $j$-го уравнения."
   ]
  },
  {
   "cell_type": "markdown",
   "metadata": {},
   "source": [
    "<!-- Решим методом Рунге-Кутты пример, приведенный на слайде 7. Воспользуемся формулами (8), (9) и запишем выражения для нахождения значений искомых переменных $y_{i, 1}$ и $y_{i, 2}$ :\n",
    "\\begin{aligned}\n",
    "k_{1,1}& 1=y_{(i-1),2};\\quad\\quad\\quad k_{1,2}=\\exp\\left(-x_i\\cdot y_{(i-1),1}\\right);  \\\\\n",
    "k_{2,}&   1=y_{(i-1),2}+k_{1,2}\\cdot\\frac h2;\\quad k_{2,2}=\\exp\\left[-\\left(x_i+\\frac h2\\right)\\cdot\\left(y_{(i-1),1}+k_{1,1}\\cdot\\frac h2\\right)\\right.  \\\\\n",
    "k_{3,1}& =y_{(i-1),2}+k_{2,2}\\cdot\\frac h2;\\quad k_{3,2}=\\exp\\left[-\\left(x_i+\\frac h2\\right)\\cdot\\left(y_{(i-1),1}+k_{2,1}\\cdot\\frac h2\\right)\\right]  \\\\\n",
    "\\text{k4,1}& =y_{(i-1),2}+k_{3,2}\\cdot h;\\quad k_{4,2}=\\exp\\left[-(x_i+h)\\cdot(y_{(i-1),1}+k_{3,1}\\cdot h)\\right]  \\\\\n",
    "&\\begin{cases}y_{i,1}=y_{(i-1),1}+\\frac{0.1}6\\cdot(k_{1,1}+2\\cdot k_{2,1}+2\\cdot k_{3,1}+k_{4,1})\\\\y_{i,2}=y_{(i-1),2}+\\frac{0.1}6\\cdot(k_{1,2}+2\\cdot k_{2,2}+2\\cdot k_{3,2}+k_{4,2})\\\\x_i=x_{i-1}+0.1&\\end{cases}\n",
    "\\end{aligned} -->"
   ]
  },
  {
   "cell_type": "markdown",
   "metadata": {},
   "source": [
    "## Решение"
   ]
  },
  {
   "cell_type": "markdown",
   "metadata": {},
   "source": [
    "Решим методом Рунге-Кутты пример. Воспользуемся формулами (8), (9) и запишем выражения для нахождения значений искомых переменных $y_{i, 1}$ и $y_{i, 2}$ :\n",
    "$$\n",
    "\\begin{aligned}\n",
    "& k_{1,1}=y_{(i-1), 2} ; \\\\\n",
    "& k_{1,2}=\\exp \\left(-x_i \\cdot y_{(i-1), 1}\\right) \\text {; } \\\\\n",
    "& k_{2,1}=y_{(i-1), 2}+k_{1,2} \\cdot \\frac{h}{2} \\text {; } \\\\\n",
    "& k_{2,2}=\\exp \\left[-\\left(x_i+\\frac{h}{2}\\right) \\cdot\\left(y_{(i-1), 1}+k_{1,1} \\cdot \\frac{h}{2}\\right)\\right] \\\\\n",
    "& k_{3,1}=y_{(i-1), 2}+k_{2,2} \\cdot \\frac{h}{2} \\text {; } \\\\\n",
    "& k_{3,2}=\\exp \\left[-\\left(x_i+\\frac{h}{2}\\right) \\cdot\\left(y_{(i-1), 1}+k_{2,1} \\cdot \\frac{h}{2}\\right)\\right] \\\\\n",
    "& k_{4,1}=y_{(i-1), 2}+k_{3,2} \\cdot h \\text {; } \\\\\n",
    "& k_{4,2}=\\exp \\left[-\\left(x_i+h\\right) \\cdot\\left(y_{(i-1), 1}+k_{3,1} \\cdot h\\right)\\right] \\\\\n",
    "& \\left\\{\\begin{aligned}\n",
    "y_{i, 1} & =y_{(i-1), 1}+\\frac{0.1}{6} \\cdot\\left(k_{1,1}+2 \\cdot k_{2,1}+2 \\cdot k_{3,1}+k_{4,1}\\right) \\\\\n",
    "y_{i, 2} & =y_{(i-1), 2}+\\frac{0.1}{6} \\cdot\\left(k_{1,2}+2 \\cdot k_{2,2}+2 \\cdot k_{3,2}+k_{4,2}\\right) \\\\\n",
    "x_i & =x_{i-1}+0.1\n",
    "\\end{aligned}\\right. \\\\\n",
    "&\n",
    "\\end{aligned}\n",
    "$$"
   ]
  },
  {
   "cell_type": "code",
   "execution_count": 12,
   "metadata": {},
   "outputs": [],
   "source": [
    "import math\n",
    "from icecream import ic \n",
    "\n",
    "\n",
    "def equations(x , y ) :  \n",
    "    \"\"\"Функция, содержащая правые части дифф. уравнений\"\"\"\n",
    "    return [\n",
    "        y[2],\n",
    "        math.exp(y[1]),\n",
    "        math.exp(-x * y[0])\n",
    "        ]\n",
    "\n",
    "\n",
    "def rk(func, x0, xf, y0, h) :\n",
    "    count = int( (xf - x0) / h ) + 1\n",
    "    y = [ y0[:] ]\n",
    "    x = x0\n",
    "    for i in range (1 , count ) :\n",
    "        k1 = func(x, y[i - 1])\n",
    "        k2 = func(x + h/2, list(map(lambda arr1, arr2: arr1 + arr2 * h/2, y[i - 1], k1)))\n",
    "        k3 = func(x + h/2, list(map(lambda arr1, arr2: arr1 + arr2 * h/2, y[i - 1], k2)))\n",
    "        k4 = func(x + h  , list(map(lambda arr1, arr2: arr1 + arr2 * h  , y[i - 1], k3)))\n",
    "        \n",
    "        y.append([])\n",
    "        \n",
    "        for j in range ( len ( y0 ) ) :\n",
    "            y[i].append(y[i - 1][j] + h/6 * (k1[j] + 2 * k2[j] + 2 * k3[j] + k4[j]))\n",
    "\n",
    "        x += h\n",
    "    return y"
   ]
  },
  {
   "cell_type": "code",
   "execution_count": 18,
   "metadata": {},
   "outputs": [
    {
     "data": {
      "text/html": [
       "<div>\n",
       "<style scoped>\n",
       "    .dataframe tbody tr th:only-of-type {\n",
       "        vertical-align: middle;\n",
       "    }\n",
       "\n",
       "    .dataframe tbody tr th {\n",
       "        vertical-align: top;\n",
       "    }\n",
       "\n",
       "    .dataframe thead th {\n",
       "        text-align: right;\n",
       "    }\n",
       "</style>\n",
       "<table border=\"1\" class=\"dataframe\">\n",
       "  <thead>\n",
       "    <tr style=\"text-align: right;\">\n",
       "      <th></th>\n",
       "      <th>0</th>\n",
       "      <th>1</th>\n",
       "      <th>2</th>\n",
       "    </tr>\n",
       "  </thead>\n",
       "  <tbody>\n",
       "    <tr>\n",
       "      <th>0</th>\n",
       "      <td>0.000000</td>\n",
       "      <td>0.000000</td>\n",
       "      <td>0.000000</td>\n",
       "    </tr>\n",
       "    <tr>\n",
       "      <th>1</th>\n",
       "      <td>0.005000</td>\n",
       "      <td>0.105361</td>\n",
       "      <td>0.099988</td>\n",
       "    </tr>\n",
       "    <tr>\n",
       "      <th>2</th>\n",
       "      <td>0.019992</td>\n",
       "      <td>0.223144</td>\n",
       "      <td>0.199800</td>\n",
       "    </tr>\n",
       "    <tr>\n",
       "      <th>3</th>\n",
       "      <td>0.044940</td>\n",
       "      <td>0.356675</td>\n",
       "      <td>0.298992</td>\n",
       "    </tr>\n",
       "    <tr>\n",
       "      <th>4</th>\n",
       "      <td>0.079746</td>\n",
       "      <td>0.510826</td>\n",
       "      <td>0.396835</td>\n",
       "    </tr>\n",
       "    <tr>\n",
       "      <th>5</th>\n",
       "      <td>0.124229</td>\n",
       "      <td>0.693148</td>\n",
       "      <td>0.492352</td>\n",
       "    </tr>\n",
       "    <tr>\n",
       "      <th>6</th>\n",
       "      <td>0.178100</td>\n",
       "      <td>0.916293</td>\n",
       "      <td>0.584379</td>\n",
       "    </tr>\n",
       "    <tr>\n",
       "      <th>7</th>\n",
       "      <td>0.240947</td>\n",
       "      <td>1.203979</td>\n",
       "      <td>0.671656</td>\n",
       "    </tr>\n",
       "    <tr>\n",
       "      <th>8</th>\n",
       "      <td>0.312231</td>\n",
       "      <td>1.609457</td>\n",
       "      <td>0.752938</td>\n",
       "    </tr>\n",
       "    <tr>\n",
       "      <th>9</th>\n",
       "      <td>0.391297</td>\n",
       "      <td>2.302586</td>\n",
       "      <td>0.827116</td>\n",
       "    </tr>\n",
       "    <tr>\n",
       "      <th>10</th>\n",
       "      <td>0.477389</td>\n",
       "      <td>5.409112</td>\n",
       "      <td>0.893337</td>\n",
       "    </tr>\n",
       "  </tbody>\n",
       "</table>\n",
       "</div>"
      ],
      "text/plain": [
       "           0         1         2\n",
       "0   0.000000  0.000000  0.000000\n",
       "1   0.005000  0.105361  0.099988\n",
       "2   0.019992  0.223144  0.199800\n",
       "3   0.044940  0.356675  0.298992\n",
       "4   0.079746  0.510826  0.396835\n",
       "5   0.124229  0.693148  0.492352\n",
       "6   0.178100  0.916293  0.584379\n",
       "7   0.240947  1.203979  0.671656\n",
       "8   0.312231  1.609457  0.752938\n",
       "9   0.391297  2.302586  0.827116\n",
       "10  0.477389  5.409112  0.893337"
      ]
     },
     "execution_count": 18,
     "metadata": {},
     "output_type": "execute_result"
    }
   ],
   "source": [
    "import pandas as pd\n",
    "\n",
    "\n",
    "sol = rk(equations, 0, 1, [0, 0, 0], 0.1)\n",
    "# for l in sol:\n",
    "#     print(l)\n",
    "#     # ic(l)\n",
    "\n",
    "pd.DataFrame(data=sol)"
   ]
  },
  {
   "cell_type": "code",
   "execution_count": 20,
   "metadata": {},
   "outputs": [
    {
     "ename": "ValueError",
     "evalue": "Field names must be unique",
     "output_type": "error",
     "traceback": [
      "\u001b[0;31m---------------------------------------------------------------------------\u001b[0m",
      "\u001b[0;31mAssertionError\u001b[0m                            Traceback (most recent call last)",
      "File \u001b[0;32m/usr/local/Caskroom/miniconda/base/envs/unienv/lib/python3.11/site-packages/prettytable/prettytable.py:439\u001b[0m, in \u001b[0;36mPrettyTable._validate_field_names\u001b[0;34m(self, val)\u001b[0m\n\u001b[1;32m    438\u001b[0m \u001b[39mtry\u001b[39;00m:\n\u001b[0;32m--> 439\u001b[0m     \u001b[39massert\u001b[39;00m \u001b[39mlen\u001b[39m(val) \u001b[39m==\u001b[39m \u001b[39mlen\u001b[39m(\u001b[39mset\u001b[39m(val))\n\u001b[1;32m    440\u001b[0m \u001b[39mexcept\u001b[39;00m \u001b[39mAssertionError\u001b[39;00m:\n",
      "\u001b[0;31mAssertionError\u001b[0m: ",
      "\nDuring handling of the above exception, another exception occurred:\n",
      "\u001b[0;31mValueError\u001b[0m                                Traceback (most recent call last)",
      "\u001b[1;32m/Users/booba/Library/Mobile Documents/com~apple~CloudDocs/C O D E/stu/moriarty/theory.ipynb Ячейка 10\u001b[0m line \u001b[0;36m5\n\u001b[1;32m      <a href='vscode-notebook-cell:/Users/booba/Library/Mobile%20Documents/com~apple~CloudDocs/C%20O%20D%20E/stu/moriarty/theory.ipynb#X12sZmlsZQ%3D%3D?line=0'>1</a>\u001b[0m \u001b[39mfrom\u001b[39;00m \u001b[39mprettytable\u001b[39;00m \u001b[39mimport\u001b[39;00m PrettyTable\n\u001b[1;32m      <a href='vscode-notebook-cell:/Users/booba/Library/Mobile%20Documents/com~apple~CloudDocs/C%20O%20D%20E/stu/moriarty/theory.ipynb#X12sZmlsZQ%3D%3D?line=2'>3</a>\u001b[0m table \u001b[39m=\u001b[39m PrettyTable()\n\u001b[0;32m----> <a href='vscode-notebook-cell:/Users/booba/Library/Mobile%20Documents/com~apple~CloudDocs/C%20O%20D%20E/stu/moriarty/theory.ipynb#X12sZmlsZQ%3D%3D?line=4'>5</a>\u001b[0m table\u001b[39m.\u001b[39;49mfield_names \u001b[39m=\u001b[39m [\u001b[39m\"\u001b[39m\u001b[39mЗаголовок\u001b[39m\u001b[39m\"\u001b[39m, \u001b[39m\"\u001b[39m\u001b[39mЗаголовок\u001b[39m\u001b[39m\"\u001b[39m, \u001b[39m\"\u001b[39m\u001b[39mЗаголовок\u001b[39m\u001b[39m\"\u001b[39m]\n\u001b[1;32m      <a href='vscode-notebook-cell:/Users/booba/Library/Mobile%20Documents/com~apple~CloudDocs/C%20O%20D%20E/stu/moriarty/theory.ipynb#X12sZmlsZQ%3D%3D?line=6'>7</a>\u001b[0m \u001b[39mfor\u001b[39;00m row \u001b[39min\u001b[39;00m sol:\n\u001b[1;32m      <a href='vscode-notebook-cell:/Users/booba/Library/Mobile%20Documents/com~apple~CloudDocs/C%20O%20D%20E/stu/moriarty/theory.ipynb#X12sZmlsZQ%3D%3D?line=7'>8</a>\u001b[0m     table\u001b[39m.\u001b[39madd_row(row)\n",
      "File \u001b[0;32m/usr/local/Caskroom/miniconda/base/envs/unienv/lib/python3.11/site-packages/prettytable/prettytable.py:608\u001b[0m, in \u001b[0;36mPrettyTable.field_names\u001b[0;34m(self, val)\u001b[0m\n\u001b[1;32m    605\u001b[0m \u001b[39m@field_names\u001b[39m\u001b[39m.\u001b[39msetter\n\u001b[1;32m    606\u001b[0m \u001b[39mdef\u001b[39;00m \u001b[39mfield_names\u001b[39m(\u001b[39mself\u001b[39m, val):\n\u001b[1;32m    607\u001b[0m     val \u001b[39m=\u001b[39m [\u001b[39mstr\u001b[39m(x) \u001b[39mfor\u001b[39;00m x \u001b[39min\u001b[39;00m val]\n\u001b[0;32m--> 608\u001b[0m     \u001b[39mself\u001b[39;49m\u001b[39m.\u001b[39;49m_validate_option(\u001b[39m\"\u001b[39;49m\u001b[39mfield_names\u001b[39;49m\u001b[39m\"\u001b[39;49m, val)\n\u001b[1;32m    609\u001b[0m     old_names \u001b[39m=\u001b[39m \u001b[39mNone\u001b[39;00m\n\u001b[1;32m    610\u001b[0m     \u001b[39mif\u001b[39;00m \u001b[39mself\u001b[39m\u001b[39m.\u001b[39m_field_names:\n",
      "File \u001b[0;32m/usr/local/Caskroom/miniconda/base/envs/unienv/lib/python3.11/site-packages/prettytable/prettytable.py:356\u001b[0m, in \u001b[0;36mPrettyTable._validate_option\u001b[0;34m(self, option, val)\u001b[0m\n\u001b[1;32m    354\u001b[0m \u001b[39mdef\u001b[39;00m \u001b[39m_validate_option\u001b[39m(\u001b[39mself\u001b[39m, option, val):\n\u001b[1;32m    355\u001b[0m     \u001b[39mif\u001b[39;00m option \u001b[39m==\u001b[39m \u001b[39m\"\u001b[39m\u001b[39mfield_names\u001b[39m\u001b[39m\"\u001b[39m:\n\u001b[0;32m--> 356\u001b[0m         \u001b[39mself\u001b[39;49m\u001b[39m.\u001b[39;49m_validate_field_names(val)\n\u001b[1;32m    357\u001b[0m     \u001b[39melif\u001b[39;00m option \u001b[39m==\u001b[39m \u001b[39m\"\u001b[39m\u001b[39mnone_format\u001b[39m\u001b[39m\"\u001b[39m:\n\u001b[1;32m    358\u001b[0m         \u001b[39mself\u001b[39m\u001b[39m.\u001b[39m_validate_none_format(val)\n",
      "File \u001b[0;32m/usr/local/Caskroom/miniconda/base/envs/unienv/lib/python3.11/site-packages/prettytable/prettytable.py:441\u001b[0m, in \u001b[0;36mPrettyTable._validate_field_names\u001b[0;34m(self, val)\u001b[0m\n\u001b[1;32m    439\u001b[0m     \u001b[39massert\u001b[39;00m \u001b[39mlen\u001b[39m(val) \u001b[39m==\u001b[39m \u001b[39mlen\u001b[39m(\u001b[39mset\u001b[39m(val))\n\u001b[1;32m    440\u001b[0m \u001b[39mexcept\u001b[39;00m \u001b[39mAssertionError\u001b[39;00m:\n\u001b[0;32m--> 441\u001b[0m     \u001b[39mraise\u001b[39;00m \u001b[39mValueError\u001b[39;00m(\u001b[39m\"\u001b[39m\u001b[39mField names must be unique\u001b[39m\u001b[39m\"\u001b[39m)\n",
      "\u001b[0;31mValueError\u001b[0m: Field names must be unique"
     ]
    }
   ],
   "source": [
    "from prettytable import PrettyTable\n",
    "\n",
    "table = PrettyTable()\n",
    "\n",
    "table.field_names = [\"Заголовок\", \"Заголовок\", \"Заголовок\"]\n",
    "\n",
    "for row in sol:\n",
    "    table.add_row(row)\n",
    "\n",
    "print(table)"
   ]
  }
 ],
 "metadata": {
  "kernelspec": {
   "display_name": "unienv",
   "language": "python",
   "name": "python3"
  },
  "language_info": {
   "codemirror_mode": {
    "name": "ipython",
    "version": 3
   },
   "file_extension": ".py",
   "mimetype": "text/x-python",
   "name": "python",
   "nbconvert_exporter": "python",
   "pygments_lexer": "ipython3",
   "version": "3.11.0"
  }
 },
 "nbformat": 4,
 "nbformat_minor": 2
}
